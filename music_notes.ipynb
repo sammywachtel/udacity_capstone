{
 "cells": [
  {
   "cell_type": "code",
   "execution_count": 1,
   "metadata": {},
   "outputs": [],
   "source": [
    "import warnings\n",
    "warnings.filterwarnings('ignore')"
   ]
  },
  {
   "cell_type": "code",
   "execution_count": 1,
   "metadata": {},
   "outputs": [
    {
     "name": "stderr",
     "output_type": "stream",
     "text": [
      "/home/ec2-user/anaconda3/envs/magenta-gpu/lib/python3.6/site-packages/tensorflow/python/framework/dtypes.py:516: FutureWarning: Passing (type, 1) or '1type' as a synonym of type is deprecated; in a future version of numpy, it will be understood as (type, (1,)) / '(1,)type'.\n",
      "  _np_qint8 = np.dtype([(\"qint8\", np.int8, 1)])\n",
      "/home/ec2-user/anaconda3/envs/magenta-gpu/lib/python3.6/site-packages/tensorflow/python/framework/dtypes.py:517: FutureWarning: Passing (type, 1) or '1type' as a synonym of type is deprecated; in a future version of numpy, it will be understood as (type, (1,)) / '(1,)type'.\n",
      "  _np_quint8 = np.dtype([(\"quint8\", np.uint8, 1)])\n",
      "/home/ec2-user/anaconda3/envs/magenta-gpu/lib/python3.6/site-packages/tensorflow/python/framework/dtypes.py:518: FutureWarning: Passing (type, 1) or '1type' as a synonym of type is deprecated; in a future version of numpy, it will be understood as (type, (1,)) / '(1,)type'.\n",
      "  _np_qint16 = np.dtype([(\"qint16\", np.int16, 1)])\n",
      "/home/ec2-user/anaconda3/envs/magenta-gpu/lib/python3.6/site-packages/tensorflow/python/framework/dtypes.py:519: FutureWarning: Passing (type, 1) or '1type' as a synonym of type is deprecated; in a future version of numpy, it will be understood as (type, (1,)) / '(1,)type'.\n",
      "  _np_quint16 = np.dtype([(\"quint16\", np.uint16, 1)])\n",
      "/home/ec2-user/anaconda3/envs/magenta-gpu/lib/python3.6/site-packages/tensorflow/python/framework/dtypes.py:520: FutureWarning: Passing (type, 1) or '1type' as a synonym of type is deprecated; in a future version of numpy, it will be understood as (type, (1,)) / '(1,)type'.\n",
      "  _np_qint32 = np.dtype([(\"qint32\", np.int32, 1)])\n",
      "/home/ec2-user/anaconda3/envs/magenta-gpu/lib/python3.6/site-packages/tensorflow/python/framework/dtypes.py:525: FutureWarning: Passing (type, 1) or '1type' as a synonym of type is deprecated; in a future version of numpy, it will be understood as (type, (1,)) / '(1,)type'.\n",
      "  np_resource = np.dtype([(\"resource\", np.ubyte, 1)])\n",
      "/home/ec2-user/anaconda3/envs/magenta-gpu/lib/python3.6/site-packages/tensorboard/compat/tensorflow_stub/dtypes.py:541: FutureWarning: Passing (type, 1) or '1type' as a synonym of type is deprecated; in a future version of numpy, it will be understood as (type, (1,)) / '(1,)type'.\n",
      "  _np_qint8 = np.dtype([(\"qint8\", np.int8, 1)])\n",
      "/home/ec2-user/anaconda3/envs/magenta-gpu/lib/python3.6/site-packages/tensorboard/compat/tensorflow_stub/dtypes.py:542: FutureWarning: Passing (type, 1) or '1type' as a synonym of type is deprecated; in a future version of numpy, it will be understood as (type, (1,)) / '(1,)type'.\n",
      "  _np_quint8 = np.dtype([(\"quint8\", np.uint8, 1)])\n",
      "/home/ec2-user/anaconda3/envs/magenta-gpu/lib/python3.6/site-packages/tensorboard/compat/tensorflow_stub/dtypes.py:543: FutureWarning: Passing (type, 1) or '1type' as a synonym of type is deprecated; in a future version of numpy, it will be understood as (type, (1,)) / '(1,)type'.\n",
      "  _np_qint16 = np.dtype([(\"qint16\", np.int16, 1)])\n",
      "/home/ec2-user/anaconda3/envs/magenta-gpu/lib/python3.6/site-packages/tensorboard/compat/tensorflow_stub/dtypes.py:544: FutureWarning: Passing (type, 1) or '1type' as a synonym of type is deprecated; in a future version of numpy, it will be understood as (type, (1,)) / '(1,)type'.\n",
      "  _np_quint16 = np.dtype([(\"quint16\", np.uint16, 1)])\n",
      "/home/ec2-user/anaconda3/envs/magenta-gpu/lib/python3.6/site-packages/tensorboard/compat/tensorflow_stub/dtypes.py:545: FutureWarning: Passing (type, 1) or '1type' as a synonym of type is deprecated; in a future version of numpy, it will be understood as (type, (1,)) / '(1,)type'.\n",
      "  _np_qint32 = np.dtype([(\"qint32\", np.int32, 1)])\n",
      "/home/ec2-user/anaconda3/envs/magenta-gpu/lib/python3.6/site-packages/tensorboard/compat/tensorflow_stub/dtypes.py:550: FutureWarning: Passing (type, 1) or '1type' as a synonym of type is deprecated; in a future version of numpy, it will be understood as (type, (1,)) / '(1,)type'.\n",
      "  np_resource = np.dtype([(\"resource\", np.ubyte, 1)])\n",
      "WARNING: Logging before flag parsing goes to stderr.\n",
      "W0831 14:16:38.220207 140172280833856 deprecation.py:323] From <ipython-input-1-425267c26901>:9: tf_record_iterator (from tensorflow.python.lib.io.tf_record) is deprecated and will be removed in a future version.\n",
      "Instructions for updating:\n",
      "Use eager execution and: \n",
      "`tf.data.TFRecordDataset(path)`\n"
     ]
    },
    {
     "name": "stdout",
     "output_type": "stream",
     "text": [
      "\n",
      "RECORD  0 \n",
      "\n",
      "instrument_family\n",
      "int64_list {\n",
      "  value: 0\n",
      "}\n",
      "\n",
      "note_str\n",
      "bytes_list {\n",
      "  value: \"bass_synthetic_033-100-100\"\n",
      "}\n",
      "\n",
      "sample_rate\n",
      "int64_list {\n",
      "  value: 16000\n",
      "}\n",
      "\n",
      "instrument_source\n",
      "int64_list {\n",
      "  value: 2\n",
      "}\n",
      "\n",
      "qualities\n",
      "int64_list {\n",
      "  value: 0\n",
      "  value: 0\n",
      "  value: 0\n",
      "  value: 0\n",
      "  value: 0\n",
      "  value: 0\n",
      "  value: 0\n",
      "  value: 0\n",
      "  value: 0\n",
      "  value: 0\n",
      "}\n",
      "\n",
      "instrument_source_str\n",
      "bytes_list {\n",
      "  value: \"synthetic\"\n",
      "}\n",
      "\n",
      "audio\n",
      "omitted\n",
      "\n",
      "instrument\n",
      "int64_list {\n",
      "  value: 417\n",
      "}\n",
      "\n",
      "qualities_str\n",
      "bytes_list {\n",
      "}\n",
      "\n",
      "note\n",
      "int64_list {\n",
      "  value: 149013\n",
      "}\n",
      "\n",
      "instrument_str\n",
      "bytes_list {\n",
      "  value: \"bass_synthetic_033\"\n",
      "}\n",
      "\n",
      "instrument_family_str\n",
      "bytes_list {\n",
      "  value: \"bass\"\n",
      "}\n",
      "\n",
      "velocity\n",
      "int64_list {\n",
      "  value: 100\n",
      "}\n",
      "\n",
      "pitch\n",
      "int64_list {\n",
      "  value: 100\n",
      "}\n",
      "\n"
     ]
    }
   ],
   "source": [
    "import numpy as np\n",
    "import tensorflow as tf\n",
    "import itertools as it\n",
    "import scipy.io.wavfile as wavfile\n",
    "\n",
    "tf.enable_eager_execution()\n",
    "\n",
    "#testData = tf.data.TFRecordDataset(\"data/nsynth-test.tfrecord\")\n",
    "res = tf.python_io.tf_record_iterator(\"data/nsynth-test.tfrecord\")\n",
    "\n",
    "i = 0\n",
    "for e in res:\n",
    "    print(\"\\nRECORD \", i, \"\\n\")\n",
    "    e = tf.train.Example.FromString(e)\n",
    "    d = dict(e.features.feature)\n",
    "    keys = d.keys()\n",
    "    for key in keys:\n",
    "        if key == 'audio':\n",
    "            print(key)\n",
    "            print('omitted\\n')\n",
    "            #print(d.get(key))\n",
    "            #wavfile.read(d.get(key))\n",
    "        else:\n",
    "            print(key)\n",
    "            print (d.get(key))\n",
    "    \n",
    "    i += 1\n",
    "    if i > 0:\n",
    "        break"
   ]
  },
  {
   "cell_type": "code",
   "execution_count": 4,
   "metadata": {},
   "outputs": [],
   "source": [
    "#     features = {\n",
    "#         \"note_str\": tf.FixedLenFeature([], dtype=tf.string),\n",
    "#         \"pitch\": tf.FixedLenFeature([1], dtype=tf.int64),\n",
    "#         \"velocity\": tf.FixedLenFeature([1], dtype=tf.int64),\n",
    "#         \"audio\": tf.FixedLenFeature([64000], dtype=tf.float32),\n",
    "#         \"qualities\": tf.FixedLenFeature([10], dtype=tf.int64),\n",
    "#         \"instrument_source\": tf.FixedLenFeature([1], dtype=tf.int64),\n",
    "#         \"instrument_family\": tf.FixedLenFeature([1], dtype=tf.int64),\n",
    "#     }"
   ]
  },
  {
   "cell_type": "code",
   "execution_count": 2,
   "metadata": {},
   "outputs": [
    {
     "name": "stderr",
     "output_type": "stream",
     "text": [
      "Using TensorFlow backend.\n"
     ]
    }
   ],
   "source": [
    "import warnings\n",
    "import tensorflow as tf\n",
    "import math\n",
    "#from magenta.models.nsynth import utils\n",
    "#from magenta.models.nsynth.wavenet import fastgen\n",
    "\n",
    "from keras import layers\n",
    "from keras import models\n",
    "from keras.layers.advanced_activations import LeakyReLU\n",
    "from keras.optimizers import Adam\n",
    "import keras.backend as K\n",
    "import librosa\n",
    "import librosa.display\n",
    "import pylab\n",
    "import matplotlib.pyplot as plt\n",
    "from utils import audio_utils, general_utils\n",
    "from matplotlib import figure\n",
    "import gc\n",
    "from path import Path\n",
    "\n",
    "import importlib\n",
    "\n",
    "warnings.filterwarnings('ignore')\n"
   ]
  },
  {
   "cell_type": "code",
   "execution_count": null,
   "metadata": {},
   "outputs": [
    {
     "name": "stdout",
     "output_type": "stream",
     "text": [
      "processed 2450 files in 12 batches"
     ]
    }
   ],
   "source": [
    "importlib.reload(audio_utils)\n",
    "importlib.reload(general_utils)\n",
    "\n",
    "#audio_utils.write_spectograms('data/nsynth-test.tfrecord', 'data/nsynth-test-spectrograms')\n",
    "audio_utils.write_spectograms_parallelized('data/nsynth-valid.tfrecord', 'data/nsynth-valid-spectrograms', 200)\n"
   ]
  },
  {
   "cell_type": "code",
   "execution_count": 13,
   "metadata": {},
   "outputs": [
    {
     "name": "stdout",
     "output_type": "stream",
     "text": [
      "Number of processors:  4\n"
     ]
    }
   ],
   "source": [
    "import multiprocessing as mp\n",
    "print(\"Number of processors: \", mp.cpu_count())"
   ]
  },
  {
   "cell_type": "code",
   "execution_count": null,
   "metadata": {},
   "outputs": [],
   "source": []
  },
  {
   "cell_type": "code",
   "execution_count": null,
   "metadata": {},
   "outputs": [],
   "source": []
  }
 ],
 "metadata": {
  "kernelspec": {
   "display_name": "Python 3",
   "language": "python",
   "name": "python3"
  },
  "language_info": {
   "codemirror_mode": {
    "name": "ipython",
    "version": 3
   },
   "file_extension": ".py",
   "mimetype": "text/x-python",
   "name": "python",
   "nbconvert_exporter": "python",
   "pygments_lexer": "ipython3",
   "version": "3.6.5"
  }
 },
 "nbformat": 4,
 "nbformat_minor": 2
}
