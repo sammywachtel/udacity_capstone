{
 "cells": [
  {
   "cell_type": "code",
   "execution_count": 1,
   "metadata": {},
   "outputs": [],
   "source": [
    "import warnings\n",
    "warnings.filterwarnings('ignore')"
   ]
  },
  {
   "cell_type": "code",
   "execution_count": 17,
   "metadata": {},
   "outputs": [],
   "source": [
    "import numpy as np\n",
    "import tensorflow as tf\n",
    "import itertools as it\n",
    "import scipy.io.wavfile as wavfile\n",
    "import importlib\n",
    "from utils import general_utils, audio_utils\n",
    "importlib.reload(audio_utils)\n",
    "importlib.reload(general_utils)\n",
    "tf.enable_eager_execution()\n"
   ]
  },
  {
   "cell_type": "code",
   "execution_count": 18,
   "metadata": {},
   "outputs": [
    {
     "name": "stdout",
     "output_type": "stream",
     "text": [
      "\n",
      "RECORD  1 \n",
      "\n",
      "note_str\n",
      "bytes_list {\n",
      "  value: \"bass_synthetic_033-100-100\"\n",
      "}\n",
      "\n",
      "sample_rate\n",
      "int64_list {\n",
      "  value: 16000\n",
      "}\n",
      "\n",
      "instrument_source\n",
      "int64_list {\n",
      "  value: 2\n",
      "}\n",
      "\n",
      "qualities\n",
      "int64_list {\n",
      "  value: 0\n",
      "  value: 0\n",
      "  value: 0\n",
      "  value: 0\n",
      "  value: 0\n",
      "  value: 0\n",
      "  value: 0\n",
      "  value: 0\n",
      "  value: 0\n",
      "  value: 0\n",
      "}\n",
      "\n",
      "instrument_source_str\n",
      "bytes_list {\n",
      "  value: \"synthetic\"\n",
      "}\n",
      "\n",
      "audio\n",
      "omitted\n",
      "\n",
      "instrument\n",
      "int64_list {\n",
      "  value: 417\n",
      "}\n",
      "\n",
      "qualities_str\n",
      "bytes_list {\n",
      "}\n",
      "\n",
      "note\n",
      "int64_list {\n",
      "  value: 149013\n",
      "}\n",
      "\n",
      "instrument_str\n",
      "bytes_list {\n",
      "  value: \"bass_synthetic_033\"\n",
      "}\n",
      "\n",
      "instrument_family_str\n",
      "bytes_list {\n",
      "  value: \"bass\"\n",
      "}\n",
      "\n",
      "velocity\n",
      "int64_list {\n",
      "  value: 100\n",
      "}\n",
      "\n",
      "pitch\n",
      "int64_list {\n",
      "  value: 100\n",
      "}\n",
      "\n",
      "instrument_family\n",
      "int64_list {\n",
      "  value: 0\n",
      "}\n",
      "\n",
      "\n",
      "RECORD  2 \n",
      "\n",
      "instrument_family\n",
      "int64_list {\n",
      "  value: 0\n",
      "}\n",
      "\n",
      "note_str\n",
      "bytes_list {\n",
      "  value: \"bass_synthetic_033-100-127\"\n",
      "}\n",
      "\n",
      "instrument_source\n",
      "int64_list {\n",
      "  value: 2\n",
      "}\n",
      "\n",
      "sample_rate\n",
      "int64_list {\n",
      "  value: 16000\n",
      "}\n",
      "\n",
      "qualities\n",
      "int64_list {\n",
      "  value: 0\n",
      "  value: 0\n",
      "  value: 0\n",
      "  value: 0\n",
      "  value: 0\n",
      "  value: 0\n",
      "  value: 0\n",
      "  value: 0\n",
      "  value: 0\n",
      "  value: 0\n",
      "}\n",
      "\n",
      "instrument_source_str\n",
      "bytes_list {\n",
      "  value: \"synthetic\"\n",
      "}\n",
      "\n",
      "audio\n",
      "omitted\n",
      "\n",
      "instrument\n",
      "int64_list {\n",
      "  value: 417\n",
      "}\n",
      "\n",
      "qualities_str\n",
      "bytes_list {\n",
      "}\n",
      "\n",
      "note\n",
      "int64_list {\n",
      "  value: 155292\n",
      "}\n",
      "\n",
      "instrument_str\n",
      "bytes_list {\n",
      "  value: \"bass_synthetic_033\"\n",
      "}\n",
      "\n",
      "instrument_family_str\n",
      "bytes_list {\n",
      "  value: \"bass\"\n",
      "}\n",
      "\n",
      "velocity\n",
      "int64_list {\n",
      "  value: 127\n",
      "}\n",
      "\n",
      "pitch\n",
      "int64_list {\n",
      "  value: 100\n",
      "}\n",
      "\n"
     ]
    }
   ],
   "source": [
    "\n",
    "#testData = tf.data.TFRecordDataset(\"data/nsynth-test.tfrecord\")\n",
    "tf_record_file = \"data/nsynth-test.tfrecord\"\n",
    "general_utils.list_data_in_tfrecord(tf_record_file, 2)"
   ]
  },
  {
   "cell_type": "code",
   "execution_count": 19,
   "metadata": {},
   "outputs": [],
   "source": [
    "#     features = {\n",
    "#         \"note_str\": tf.FixedLenFeature([], dtype=tf.string),\n",
    "#         \"pitch\": tf.FixedLenFeature([1], dtype=tf.int64),\n",
    "#         \"velocity\": tf.FixedLenFeature([1], dtype=tf.int64),\n",
    "#         \"audio\": tf.FixedLenFeature([64000], dtype=tf.float32),\n",
    "#         \"qualities\": tf.FixedLenFeature([10], dtype=tf.int64),\n",
    "#         \"instrument_source\": tf.FixedLenFeature([1], dtype=tf.int64),\n",
    "#         \"instrument_family\": tf.FixedLenFeature([1], dtype=tf.int64),\n",
    "#     }"
   ]
  },
  {
   "cell_type": "markdown",
   "metadata": {},
   "source": [
    "# Display a waveform from a single example"
   ]
  },
  {
   "cell_type": "code",
   "execution_count": 62,
   "metadata": {},
   "outputs": [
    {
     "name": "stdout",
     "output_type": "stream",
     "text": [
      "found the file:  vocal_acoustic_000-064-075\n",
      "plotting...\n"
     ]
    },
    {
     "data": {
      "image/png": "[encoded data removed]",
      "text/plain": [
       "<Figure size 720x144 with 1 Axes>"
      ]
     },
     "metadata": {
      "needs_background": "light"
     },
     "output_type": "display_data"
    }
   ],
   "source": [
    "importlib.reload(audio_utils)\n",
    "importlib.reload(general_utils)\n",
    "audio_name = 'vocal_acoustic_000-064-075'\n",
    "audio_data = audio_utils.get_audio_sample_by_name_from_tfrecord(audio_name,'data/nsynth-test.tfrecord')\n",
    "#print(data)\n",
    "audio_utils.graph_wav(audio_data, audio_name)\n"
   ]
  },
  {
   "cell_type": "code",
   "execution_count": 9,
   "metadata": {},
   "outputs": [
    {
     "name": "stdout",
     "output_type": "stream",
     "text": [
      "processed 4050 files out of 4096 in 20 batches"
     ]
    }
   ],
   "source": [
    "# unpack some spectograms\n",
    "audio_utils.write_spectograms_parallelized('data/nsynth-test.tfrecord', 'data/nsynth-test-spectrograms', 200)"
   ]
  },
  {
   "cell_type": "code",
   "execution_count": 11,
   "metadata": {},
   "outputs": [],
   "source": [
    "# load the test data\n",
    "test_files, test_targets, test_target_names = general_utils.load_dataset('data/nsynth-test-spectrograms')"
   ]
  },
  {
   "cell_type": "code",
   "execution_count": null,
   "metadata": {},
   "outputs": [],
   "source": []
  }
 ],
 "metadata": {
  "kernelspec": {
   "display_name": "Python 3",
   "language": "python",
   "name": "python3"
  },
  "language_info": {
   "codemirror_mode": {
    "name": "ipython",
    "version": 3
   },
   "file_extension": ".py",
   "mimetype": "text/x-python",
   "name": "python",
   "nbconvert_exporter": "python",
   "pygments_lexer": "ipython3",
   "version": "3.7.4"
  }
 },
 "nbformat": 4,
 "nbformat_minor": 2
}
